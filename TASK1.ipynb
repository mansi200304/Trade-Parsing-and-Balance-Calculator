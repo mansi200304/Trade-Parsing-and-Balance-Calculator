{
  "cells": [
    {
      "cell_type": "code",
      "execution_count": null,
      "metadata": {
        "id": "REERFkV7Ue38"
      },
      "outputs": [],
      "source": [
        "#Importing libraries"
      ]
    },
    {
      "cell_type": "code",
      "execution_count": null,
      "metadata": {
        "id": "VJZ_CuJ1UXG2"
      },
      "outputs": [],
      "source": [
        "import pandas as pd\n",
        "import sqlite3\n",
        "from flask import Flask, request\n",
        "import csv"
      ]
    },
    {
      "cell_type": "code",
      "execution_count": null,
      "metadata": {
        "id": "JVD_m9RXU4bG"
      },
      "outputs": [],
      "source": [
        "#A SQLite Database"
      ]
    },
    {
      "cell_type": "code",
      "execution_count": null,
      "metadata": {
        "id": "I-1c24xJUvyd"
      },
      "outputs": [],
      "source": [
        "conn = sqlite3.connect('crypto_trades.db')"
      ]
    },
    {
      "cell_type": "code",
      "execution_count": null,
      "metadata": {
        "id": "KlIiyXm4VBlG"
      },
      "outputs": [],
      "source": [
        "#Trades Table"
      ]
    },
    {
      "cell_type": "code",
      "execution_count": null,
      "metadata": {
        "colab": {
          "base_uri": "https://localhost:8080/"
        },
        "id": "rybqsryYU77T",
        "outputId": "c36ec8fb-b962-42b4-aace-adbd222e5a2f"
      },
      "outputs": [
        {
          "data": {
            "text/plain": [
              "<sqlite3.Cursor at 0x78a01cc72940>"
            ]
          },
          "execution_count": 3,
          "metadata": {},
          "output_type": "execute_result"
        }
      ],
      "source": [
        "conn.execute('''\n",
        "    CREATE TABLE IF NOT EXISTS Trades (\n",
        "        Trade_ID INTEGER PRIMARY KEY AUTOINCREMENT,\n",
        "        UTC_Time TEXT,\n",
        "        Operation TEXT,\n",
        "        Base_Coin TEXT,\n",
        "        Quote_Coin TEXT,\n",
        "        Amount REAL,\n",
        "        Price REAL\n",
        "    )\n",
        "''')"
      ]
    },
    {
      "cell_type": "code",
      "execution_count": null,
      "metadata": {
        "id": "Vg49BJe4W_i2"
      },
      "outputs": [],
      "source": [
        "app = Flask(__name__)"
      ]
    },
    {
      "cell_type": "code",
      "execution_count": null,
      "metadata": {
        "id": "XAid_VOFXBsn"
      },
      "outputs": [],
      "source": [
        "@app.route('/upload', methods=['POST'])\n",
        "def upload_file():\n",
        "    if 'file' not in request.files:\n",
        "        return 'No file part'\n",
        "\n",
        "    file = request.files['/content/KoinX Assignment CSV Sample.csv']\n",
        "\n",
        "    if file.filename == '':\n",
        "      return 'No selected file'\n",
        "\n",
        "    if file:\n",
        "        trade_data = []\n",
        "        file.seek(0)  # Reset file pointer to the beginning\n",
        "        csv_reader = csv.DictReader(file)\n",
        "\n",
        "        for row in csv_reader:\n",
        "            trade_data.append((\n",
        "                row['UTC_Time'],\n",
        "                row['Operation'],\n",
        "                row['Market'].split('/')[0],  # Base coin\n",
        "                row['Market'].split('/')[1],  # Quote coin\n",
        "                row['Buy/Sell Amount'],\n",
        "                row['Price']\n",
        "            ))\n"
      ]
    },
    {
      "cell_type": "code",
      "execution_count": null,
      "metadata": {
        "id": "9YNAmLhYXjeX"
      },
      "outputs": [],
      "source": [
        "conn = sqlite3.connect('trade_data.db')"
      ]
    },
    {
      "cell_type": "markdown",
      "metadata": {
        "id": "iIBnOsKOYvG4"
      },
      "source": [
        "c1 = conn.cursor()\n",
        "c1.execute('''\n",
        "         CREATE TABLE IF NOT EXISTS trade_data(utc_time TEXT, operation TEXT, base_coin TEXT, quote_coin TEXT, amount REAL, price REAL) ''')\n",
        "c1.executemany(\"INSERT INTO trades (UTC_Time, Operation, Market, Buy_Sell_Amount, PRICE) VALUES (?, ?, ?, ?, ?)\", trade_data)\n",
        "conn.commit()\n",
        "conn.close()\n",
        "return 'File uploaded successfully'\n",
        "\n",
        "if __name__ == '__main__':\n",
        "    app.run(debug=True)"
      ]
    },
    {
      "cell_type": "code",
      "execution_count": null,
      "metadata": {
        "colab": {
          "base_uri": "https://localhost:8080/",
          "height": 35
        },
        "id": "yxYSbKFBjE4v",
        "outputId": "be9f4217-e266-446b-dd07-7ce4e7038819"
      },
      "outputs": [
        {
          "data": {
            "application/vnd.google.colaboratory.intrinsic+json": {
              "type": "string"
            },
            "text/plain": [
              "'File uploaded successfully'"
            ]
          },
          "execution_count": 6,
          "metadata": {},
          "output_type": "execute_result"
        }
      ],
      "source": [
        "\n",
        "def upload_data():\n",
        "    conn = sqlite3.connect('trade_data.db')\n",
        "    c1 = conn.cursor()\n",
        "\n",
        "    c1.execute('''\n",
        "        CREATE TABLE IF NOT EXISTS trade_data(\n",
        "            utc_time TEXT,\n",
        "            operation TEXT,\n",
        "            base_coin TEXT,\n",
        "            quote_coin TEXT,\n",
        "            amount REAL,\n",
        "            price REAL\n",
        "        )\n",
        "    ''')\n",
        "\n",
        "    trade_data = [\n",
        "        ('26-09-2022 11:21:02', 'Buy', 'BTC', 'INR', 25, 1000),\n",
        "        ('27-09-2022 11:21:02', 'Sell', 'BTC', 'INR', 10, 2000),\n",
        "        ('28-09-2022 11:21:02', 'Buy', 'MATIC', 'INR', 100, 12),\n",
        "\n",
        "    ]\n",
        "\n",
        "    c1.executemany('''\n",
        "        INSERT INTO trade_data (utc_time, operation, base_coin, quote_coin, amount, price)\n",
        "        VALUES (?, ?, ?, ?, ?, ?)\n",
        "    ''', trade_data)\n",
        "\n",
        "    conn.commit()\n",
        "    conn.close()\n",
        "\n",
        "    return 'File uploaded successfully'\n",
        "\n",
        "upload_data()"
      ]
    },
    {
      "cell_type": "code",
      "execution_count": null,
      "metadata": {
        "colab": {
          "background_save": true,
          "base_uri": "https://localhost:8080/"
        },
        "id": "UOgzLSA1rgex",
        "outputId": "ae428cc9-4ef1-4304-9fd5-27cfd39b45ac"
      },
      "outputs": [
        {
          "name": "stdout",
          "output_type": "stream",
          "text": [
            " * Serving Flask app '__main__'\n",
            " * Debug mode: on\n"
          ]
        },
        {
          "name": "stderr",
          "output_type": "stream",
          "text": [
            "INFO:werkzeug:\u001b[31m\u001b[1mWARNING: This is a development server. Do not use it in a production deployment. Use a production WSGI server instead.\u001b[0m\n",
            " * Running on http://127.0.0.1:5000\n",
            "INFO:werkzeug:\u001b[33mPress CTRL+C to quit\u001b[0m\n",
            "INFO:werkzeug: * Restarting with stat\n"
          ]
        }
      ],
      "source": [
        "@app.route('/balance', methods=['GET'])\n",
        "def get_bal():\n",
        "    timestamp = request.args.get('timestamp')\n",
        "\n",
        "    if not timestamp:\n",
        "        return 'Missing timestamp parameter', 400\n",
        "\n",
        "    conn = sqlite3.connect('trades.db')\n",
        "    c = conn.cursor()\n",
        "\n",
        "    c.execute('''\n",
        "        SELECT base_coin, SUM(CASE WHEN operation = 'buy' THEN amount ELSE -amount END) as balance\n",
        "        FROM trades\n",
        "        WHERE UTC_Time < ?\n",
        "        GROUP BY base_coin\n",
        "    ''', (timestamp,))\n",
        "\n",
        "    balances = {row[0]: row[1] for row in c.fetchall()}\n",
        "    conn.close()\n",
        "\n",
        "    return jsonify(balances)\n",
        "\n",
        "if __name__ == '__main__':\n",
        "    app.run(debug=True)"
      ]
    }
  ],
  "metadata": {
    "colab": {
      "provenance": []
    },
    "kernelspec": {
      "display_name": "Python 3",
      "name": "python3"
    },
    "language_info": {
      "name": "python"
    }
  },
  "nbformat": 4,
  "nbformat_minor": 0
}